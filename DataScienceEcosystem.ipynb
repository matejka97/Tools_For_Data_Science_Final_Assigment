{
 "cells": [
  {
   "cell_type": "markdown",
   "id": "4455cc70-0cac-4f5f-add5-5dd0f4cb852b",
   "metadata": {},
   "source": [
    "# Data Science Tools and Ecosystem"
   ]
  },
  {
   "cell_type": "markdown",
   "id": "3b7161fc-4ebf-413e-a8ab-0fc9ba9b8c97",
   "metadata": {},
   "source": [
    "In this notebook, Data Science Tools and Ecosystem are summarized."
   ]
  },
  {
   "cell_type": "markdown",
   "id": "c1017b42-9b3c-4b90-8791-b1c2daf1850f",
   "metadata": {},
   "source": [
    "***objectives:***\n",
    "- List popular languages that Data Scientists use\n",
    "- List commonly used libraries used by Data Scientists\n",
    "- Make 3x1 table with open source data science tools\n",
    "- Add some code to show basic aritmetic operations in python"
   ]
  },
  {
   "cell_type": "markdown",
   "id": "c7261bec-0538-4d47-bc25-d679641d05b5",
   "metadata": {},
   "source": [
    "Some of the popular languages that Data Scientists use are:\n",
    " 1. Python\n",
    " 2. R\n",
    " 3. SQL\n",
    " 4. C++\n",
    " 5. Java\n",
    " 6. Julia"
   ]
  },
  {
   "cell_type": "markdown",
   "id": "7f9d0c14-bd18-4f2e-9f13-3a60c51ea425",
   "metadata": {},
   "source": [
    "Some of the commonly used libraries used by Data Scientists include:\n",
    "\n",
    "1. NumPy\n",
    "2. Matplotlib\n",
    "3. Pandas"
   ]
  },
  {
   "cell_type": "markdown",
   "id": "c71a8820-5f09-4591-8805-5ab02ee7bdcd",
   "metadata": {},
   "source": [
    "| Data Science Tools |\n",
    "| ------------------ |\n",
    "| Jupiter Lab |\n",
    "| Jupiter Notebook |\n",
    "| Spyder |\n"
   ]
  },
  {
   "cell_type": "markdown",
   "id": "213cf3b8-fdfe-495d-846f-e97fcb8855dc",
   "metadata": {},
   "source": [
    "### Below are a few examples of evaluating arithmetic expressions in Python"
   ]
  },
  {
   "cell_type": "code",
   "execution_count": 2,
   "id": "8b801663-2592-43cb-a87c-0799330dc6e9",
   "metadata": {},
   "outputs": [
    {
     "data": {
      "text/plain": [
       "17"
      ]
     },
     "execution_count": 2,
     "metadata": {},
     "output_type": "execute_result"
    }
   ],
   "source": [
    " # This a simple arithmetic expression to mutiply then add integers\n",
    "(3*4)+5"
   ]
  },
  {
   "cell_type": "code",
   "execution_count": 4,
   "id": "3e35b2f4-15de-4807-a43c-f17c005a33e1",
   "metadata": {},
   "outputs": [
    {
     "name": "stdout",
     "output_type": "stream",
     "text": [
      "200 minutes is 3.33 hours.\n"
     ]
    }
   ],
   "source": [
    "# This will convert 200 minutes to hours by diving by 60\n",
    "\n",
    "hours = 200/60\n",
    "\n",
    "print(\"200 minutes is \" + str(round(hours,2)) +\" hours.\")"
   ]
  },
  {
   "cell_type": "markdown",
   "id": "65d46825-72ca-4093-a16d-f3e8de0bba27",
   "metadata": {},
   "source": [
    "## Author\n",
    "\n",
    "Jan Matejka"
   ]
  },
  {
   "cell_type": "code",
   "execution_count": null,
   "id": "f83a9d11-ec3e-49c1-ba25-c9783e17404f",
   "metadata": {},
   "outputs": [],
   "source": []
  }
 ],
 "metadata": {
  "kernelspec": {
   "display_name": "Python 3 (ipykernel)",
   "language": "python",
   "name": "python3"
  },
  "language_info": {
   "codemirror_mode": {
    "name": "ipython",
    "version": 3
   },
   "file_extension": ".py",
   "mimetype": "text/x-python",
   "name": "python",
   "nbconvert_exporter": "python",
   "pygments_lexer": "ipython3",
   "version": "3.9.13"
  }
 },
 "nbformat": 4,
 "nbformat_minor": 5
}
